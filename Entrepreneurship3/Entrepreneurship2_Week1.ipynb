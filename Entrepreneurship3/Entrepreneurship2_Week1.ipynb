{
 "cells": [
  {
   "cell_type": "code",
   "execution_count": null,
   "metadata": {
    "collapsed": true
   },
   "outputs": [],
   "source": []
  },
  {
   "cell_type": "markdown",
   "metadata": {},
   "source": [
    "# The Product, The Pitch, and When to Quit Your Day Job"
   ]
  },
  {
   "cell_type": "markdown",
   "metadata": {},
   "source": [
    "# Lean approach"
   ]
  },
  {
   "cell_type": "markdown",
   "metadata": {},
   "source": [
    "\"No business plan survives first contact with customers\" - Steve Blank\n",
    "\n",
    "Lean approach is one of the ways to minimize uncertaninty in entreprenership.\n",
    "\n",
    "### How do you plan in an early-stage startup environment?\n",
    "Under conventional environment\n",
    "- \"Agile\" to cycle multiple steps to test software.\n",
    "\n",
    "Planning for new ventures\n",
    "- customers and markets are uncertain or unknown\n",
    "- Competitor behavior is not obvious\n",
    "- Entrepreneurs must make a large number of assumptions based on uncertain and little data and knowlege.\n",
    "\n",
    "\"Lean Startsups\"\n",
    "\n",
    "\n",
    "Key points:\n",
    "- The lean startup entails runnint test on your MVP, and pivoting, and avhieving product market fit. \n",
    "- The main promise of the lean start up is to provide value to customers with limited resources.\n"
   ]
  },
  {
   "cell_type": "markdown",
   "metadata": {},
   "source": [
    "# Minimum Viable Product (MVP)\n",
    "A product that includes just enough features to allow usefulfeedback from early adopters.\n",
    "- increases speed to market with customer-driven product\n",
    "- reduces likelihood of wasting time on useless features.\n",
    "\n",
    "Through a series of MVPs, a start up can validate a specific and comprehensive set of hypotheses about....\n",
    "- what the business model is\n",
    "- where it's progressing\n",
    "- what it has to do to survive and thrive\n",
    "\n",
    "\n",
    "## How to define 'minimum'\n",
    "There is usually one or two core problems that products are trying to solve.\n",
    "eg. Amazon lets you buy stuff.\n",
    "\n",
    "## How to define 'viable'\n",
    "What makes a product viable?\n",
    "- Will people use it?\n",
    "- Will people pay for it?\n",
    "\n",
    "## Does the MVP only refer to actual 'Products'? NO\n",
    "MVP is applicable to not only products but also services.\n",
    "\n",
    "key points:\n",
    "- no company has launched to have 'perfect' product but minimal\n",
    "- remember minimal viable product\n",
    "- define what customer can pay for your minimal viable product"
   ]
  },
  {
   "cell_type": "markdown",
   "metadata": {},
   "source": [
    "# Hypotheses and Preliminary experiments\n",
    "\n",
    "## How to structure good hypotheses for your lean startup\n",
    "- \"I (or We) believe ...\"\n",
    "- \"I believe [target market] will [do this action/use this solution] for [this reason]\"\n",
    "- start from high-level on the hypothesis\n",
    "- after that you should define concrete hypotheses.\n",
    "\n",
    "## Preliminary 'experiments'\n",
    "Creatively (add relatively cheaply) test your hypotheses\n",
    "- Explore the problem and the market\n",
    "- Explore the solution\n",
    "eg. blog, ask open question in Reddit and Quora, surveys and experiment with monetary and non-monetary incentives\n",
    "test ads."
   ]
  },
  {
   "cell_type": "markdown",
   "metadata": {},
   "source": [
    "# Pivot"
   ]
  },
  {
   "cell_type": "markdown",
   "metadata": {},
   "source": [
    "# Taking the Leap: Quiting your day job\n",
    "## Important considerations when deciding to enter entrepreneurship\n",
    "\n",
    "### Appraisal of self\n",
    "- Is this going to make me happier?\n",
    "- Should not be an escape from current job?\n",
    "- Am I willing to change my lifestyle?\n",
    "- Do I have the discipline to be my own boss?\n",
    "\n",
    "### Timing\n",
    "- personal\n",
    "be realistic about your current situation\n",
    "- Market\n",
    "Due diligence \n",
    "Mentors can help you what you think about.\n",
    "\n",
    "### Preparation\n",
    "- How will I cover my expenses?\n",
    "- financing is one of the biggest issue.\n",
    "- Prepare for failsure and slowing factors\n",
    "- Are there skills I still need to brush up on?\n",
    "- Can I try entrepreneurship without giving up my job?\n",
    "- Why will your idea work?\n",
    "\n",
    "###  Mentor and support networks\n",
    "- Do I have the support of family and close friends?\n",
    "- avoid taling to people have nothing to lose.\n",
    "\n",
    "\n"
   ]
  },
  {
   "cell_type": "markdown",
   "metadata": {},
   "source": [
    "# Art of pitch\n",
    "## There are actually many different types of pitches\n",
    "- High concept pitch\n",
    "describe concept of products\n",
    "- Elevator Pitch\n",
    "- The two sentence pitch\n",
    "- The One minute pitch\n",
    "make introduction to concept of products\n",
    "- 5 min pitch\n",
    "Elaboration of two sentence pitch. Clearly identify the market opportunity.\n",
    "\n",
    "## 5 min pitch is shorter than you think.\n",
    "- Value proposition\n",
    "- Market & competition\n",
    "- Financial prospects\n",
    "- Risks, uncertainities\n",
    "- Research\n",
    "\n",
    "key points:\n",
    "- be on time\n",
    "- think what your audience knows.\n",
    "- clearly conceptualize"
   ]
  },
  {
   "cell_type": "code",
   "execution_count": null,
   "metadata": {
    "collapsed": true
   },
   "outputs": [],
   "source": []
  }
 ],
 "metadata": {
  "kernelspec": {
   "display_name": "Python 3",
   "language": "python",
   "name": "python3"
  },
  "language_info": {
   "codemirror_mode": {
    "name": "ipython",
    "version": 3
   },
   "file_extension": ".py",
   "mimetype": "text/x-python",
   "name": "python",
   "nbconvert_exporter": "python",
   "pygments_lexer": "ipython3",
   "version": "3.6.3"
  }
 },
 "nbformat": 4,
 "nbformat_minor": 2
}
