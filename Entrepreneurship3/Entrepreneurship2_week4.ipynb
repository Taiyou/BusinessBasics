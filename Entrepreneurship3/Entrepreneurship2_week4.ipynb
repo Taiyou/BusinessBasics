{
 "cells": [
  {
   "cell_type": "markdown",
   "metadata": {},
   "source": [
    "# 4.0 Branding and Naming"
   ]
  },
  {
   "cell_type": "markdown",
   "metadata": {},
   "source": [
    "## Dot-com Availability\n",
    "- In most cases you should have full dot-com availability\n",
    "- Ideally, no hyphens or special characters\n",
    "- Preferably not. net, .org, or other top-level domains\n",
    "- Even country domains (eg. name.in) not as important as .com"
   ]
  },
  {
   "cell_type": "markdown",
   "metadata": {},
   "source": [
    "## You should check if the names evoke people to memorize?"
   ]
  },
  {
   "cell_type": "markdown",
   "metadata": {},
   "source": [
    "## Naming Criteria\n",
    "- You may legally and practically use the name\n",
    "- Evokes the thing you are naming\n",
    "- Positiv associations\n",
    "- Easy to say\n",
    "- Unambiguous spelling\n",
    "- Memorable\n",
    "- Not too long"
   ]
  },
  {
   "cell_type": "markdown",
   "metadata": {},
   "source": [
    "# 4.1 Authenticity and Personality\n",
    "## Entrepreneurial Narrative\n",
    "- Authenticity and personality of founders \n",
    "    - Authenticity of the problem being solved\n",
    "    - Authenticity and personality of found\n",
    "    \n",
    "- Brand, service, and product personality\n",
    "    - Perception and reality\n",
    "    - Five dimensions of personality\n",
    "    - digital narrative"
   ]
  },
  {
   "cell_type": "markdown",
   "metadata": {},
   "source": [
    "## beers scoring with/without information.\n",
    "- taste total different after information is given."
   ]
  },
  {
   "cell_type": "markdown",
   "metadata": {},
   "source": [
    "## Norms for Authenticity\n",
    "- Functional, emotional, and symbolic value\n",
    "\n",
    "- Now, we add in digital economy\n",
    "    - Transparency\n",
    "    - True authenticity and empathy\n",
    "    - Personalization"
   ]
  },
  {
   "cell_type": "markdown",
   "metadata": {},
   "source": [
    "## Elements for Personality of Brands\n",
    "    - Sincere, \n",
    "    - Competent\n",
    "    - Exciting\n",
    "    - Sophisticated\n",
    "    - Rugged\n",
    "\n",
    "Those personality is only unique in U.S.\n",
    "However, 'rugged' is not matter in Asian countries or 'competent' is not a matter in Latin countries.\n",
    "but more peace or passion are matters."
   ]
  },
  {
   "cell_type": "markdown",
   "metadata": {},
   "source": [
    "## Design\n",
    "What information you want to deliver to people?"
   ]
  },
  {
   "cell_type": "markdown",
   "metadata": {},
   "source": [
    "## 4.2 Bias and Mertocracy in Entreprenuership"
   ]
  },
  {
   "cell_type": "markdown",
   "metadata": {},
   "source": [
    "## What this discussion is about…"
   ]
  },
  {
   "cell_type": "markdown",
   "metadata": {},
   "source": [
    "Is\tentrepreneurship\ttruly\tmeritocratic?\t\n",
    "- Meritocra2c1\n",
    "    - where progress\tis\tbased\ton\tability\tand\ttalent\trather\tthan\ton\tclassprivilege\tor\twealth."
   ]
  },
  {
   "cell_type": "markdown",
   "metadata": {},
   "source": [
    "##  A gender bias\n",
    "[Investors prefer entrepreneurial ventures pitched by\n",
    "attractive men](http://www.hbs.edu/faculty/Publication%20Files/Brooks%20Huang%20Kearney%20Murray_59b551a9-8218-4b84-be15-eaff58009767.pdf)\n",
    "\n",
    "## Ability to convey “political skill” \n",
    "[Political skill: explaining the effects of nonnative accent on managerial hiring and entrepreneurial investment decisions.](https://www.ncbi.nlm.nih.gov/pubmed/23937299)"
   ]
  },
  {
   "cell_type": "markdown",
   "metadata": {},
   "source": [
    "# What's Your unfair advantage?\n",
    "- Large extent about homophily similarity, and identifying \n",
    "- Don't tell people what is so great about you, your product, your service\n",
    "- Tell them stories, and they'll figure out how the stories apply"
   ]
  },
  {
   "cell_type": "markdown",
   "metadata": {},
   "source": [
    "## 4.3 Incubator or Accelerator"
   ]
  },
  {
   "cell_type": "markdown",
   "metadata": {},
   "source": [
    "## Incubator\n",
    "- Less intensive and usually longer program\n",
    "- Typically smaller network of mentros\n",
    "- Application restrictions \n",
    "- Over less selective\n",
    "- Equity stake\n",
    "- often does not offer seed funding\n",
    "- some resources\n",
    "- longer check-in cycles\n",
    "\n",
    "## Accelerator\n",
    "- Intense Program\n",
    "- Large mentor-driven network\n",
    "- Anyone can apply\n",
    "- Extremely selective\n",
    "- Takes ~6% to 8% equity\n",
    "- Offer small seed funding at end"
   ]
  },
  {
   "cell_type": "markdown",
   "metadata": {},
   "source": [
    "## What to consider when thinking about an accelerator or an incubator\n",
    "Advantages\n",
    "- Opportunity to learn\n",
    "- Avoid common mistakes\n",
    "- Move faster than if alone\n",
    "- Exposure\n",
    "\n",
    "Disadvantages\n",
    "- May be distracting - meetings, events\n",
    "- May be very time consuming\n",
    "- May be overwhelming, too many opinions on your business\n",
    "- Can either be too slow and not enough pressure, or alternatively too much"
   ]
  },
  {
   "cell_type": "markdown",
   "metadata": {
    "collapsed": true
   },
   "source": [
    "# 4.4 Entrepreneurial Strategy"
   ]
  },
  {
   "cell_type": "markdown",
   "metadata": {},
   "source": [
    "## Why does strategy matter for Entrepreneurs?\n",
    "- Popular press focuses on hustle and execution\n",
    "- With limited, resources,  strategizing is perhaps more important for entrepreneurial ventures\n",
    "- Strategizing helps entrepreneurs prioritize"
   ]
  },
  {
   "cell_type": "markdown",
   "metadata": {},
   "source": [
    "## What are different types of entrepreneurial strategies?\n",
    "- Value chain: working with others (cooperating ) in a value chain to bring product or servise to market\n",
    "- Disruptive: working to undermine the industry's existing value chain, usually via a competiition strategy (see work by Christensen)\n",
    "- Blue ocean: creating new market spaces (see work by Kim & Mauborgne)\n",
    "\n",
    "Unicorn company use the strategies\n",
    "value chain > Disruptive > Blue ocean"
   ]
  },
  {
   "cell_type": "markdown",
   "metadata": {},
   "source": [
    "## What are the entreprenneurial benefits to 'cooperation'\n",
    "- Division of labor according to comparative advantage\n",
    "    - Entrepreneurial firms may be better at upstream innovaiton\n",
    "    - Established industry incumbents may have a more established supply chain\n",
    "- Avoid duplicative investments\n",
    "    - societal perspective"
   ]
  },
  {
   "cell_type": "markdown",
   "metadata": {},
   "source": [
    "## Why doen't cooperation alsywas occur?\n",
    "- Transaction costs\n",
    "    - Frictions in identifying partners & in constracting\n",
    "- one party is not interested \n",
    "    - Different perceptions\n",
    "    - value proposition unverified\n",
    "- startup diclosure dilemma\n",
    "    - Negotiating terms of exchange may undermine startup value"
   ]
  },
  {
   "cell_type": "markdown",
   "metadata": {},
   "source": [
    "## Another consideration in a value chain strategy\n",
    "- Ability to 'learn' production skills may not be as efficient under arm's length contracting\n",
    "    - may decide to incur the learning costs if you expet in the long term engage in a given production activity.\n",
    "    "
   ]
  },
  {
   "cell_type": "markdown",
   "metadata": {},
   "source": [
    "form \n",
    "[Innovator's Dilemma](http://www.claytonchristensen.com/books/the-innovators-dilemma/)"
   ]
  },
  {
   "cell_type": "markdown",
   "metadata": {},
   "source": [
    "## Entreprenurial switchback strategy\n",
    "- Temporary competition switchback\n",
    "    - Partnership/value chain strategy as an end goal, but is initially not feasible because entrepreneur lacks track reford and unvertainty (technical & commercial) vis-a-vis potential cooperation partner\n",
    "\n",
    "- Temporary cooperation switchback\n",
    "    - Product market entry as an end goal (but this stragety is initially constrained)\n",
    "    - Used to address entrepreneurial problem of developing specialized complementary assets.\n",
    "   \n",
    "[Strategic switchbacks: Dynamic commercialization strategies for technology entrepreneurs]https://www.sciencedirect.com/science/article/pii/S0048733315001134()\n"
   ]
  },
  {
   "cell_type": "markdown",
   "metadata": {},
   "source": [
    "## Temporary competition switchback\n",
    "- Qualcomm co-founder Andrew Biterbi\n",
    "- If cooperation is desirable but initially infeasible, innovators may compete at first but subsequently switch to cooperative a strategy with incumbents.\n",
    "- The Qualcomm example\n",
    "    - Instead of licensing, integrated CDMA int Qualcomm-branded cell phones and cell-phone towers\n",
    "    - Ultimately divested, switched to licensing-only model"
   ]
  },
  {
   "cell_type": "markdown",
   "metadata": {
    "collapsed": true
   },
   "source": [
    "# Quiz"
   ]
  },
  {
   "cell_type": "markdown",
   "metadata": {},
   "source": [
    "## Q1. What is a key tradeoff to selecting a company name that immediately communicates the benefit proposition to consumers?\n",
    "- Such a name might lack ambiguity that will keep a customer interested\n",
    "- This type of name does not offer much flexibility to adapt to technological and other changes in the future\n",
    "- No single name can concisely convey a company’s benefit proposition to customers\n",
    "\n",
    "## A. This type of name does not offer much flexibility to adapt to technological and other changes in the future"
   ]
  },
  {
   "cell_type": "markdown",
   "metadata": {},
   "source": [
    "## Q2. What are the three key norms of authenticity?\n",
    "- Functional, emotional, and symbolic\n",
    "- Philosophical, social, and symbolic\n",
    "- All of these\n",
    "- Spiritual, physical, and cultural\n",
    "\n",
    "## A. Functional, emotional, and symbolic"
   ]
  },
  {
   "cell_type": "markdown",
   "metadata": {},
   "source": [
    "## Q3. Which of the following is not an element of personality (as relevant to the United States)?\n",
    "- Rugged\n",
    "- Competent\n",
    "- Exciting\n",
    "- Sincere\n",
    "- Sophisticated\n",
    "- Passion\n",
    "\n",
    "## A. Passion"
   ]
  },
  {
   "cell_type": "markdown",
   "metadata": {},
   "source": [
    "## Q4. Which of the following statements about bias in entrepreneurship has been proven true by empirical research?\n",
    "- Attractive males are found to be particularly persuasive, whereas physical attractiveness did not matter among female entrepreneurs\n",
    "- Empirical research has shown all of these statements are true with respect to bias in the workplace\n",
    "- Investors prefer pitches presented by male entrepreneurs, even when the content of the pitch is the same\n",
    "- Business viability data is the main criteria for investment\n",
    "\n",
    "## A. Empirical research has shown all of these statements are true with respect to bias in the workplace"
   ]
  },
  {
   "cell_type": "markdown",
   "metadata": {},
   "source": [
    "## Q5. Which of the following is a tool you can use to overcome bias in entrepreneurship?\n",
    "- Ignore any potential biases and focus on the business idea only\n",
    "- None of these are useful tools for overcoming bias in entrepreneurship\n",
    "- Explicitly confront the other party about their potential biases\n",
    "- Seek out connections and commonalities and make them apparent, forcing individuals to focus on similarities instead of differences\n",
    "\n",
    "## A. Seek out connections and commonalities and make them apparent, forcing individuals to focus on similarities instead of differences"
   ]
  },
  {
   "cell_type": "markdown",
   "metadata": {},
   "source": [
    "## Q6. Which of the following is NOT a difference between an incubator and an accelerator?\n",
    "- Accelerators are typically less selective than incubators\n",
    "- Accelerators typically have a demo day with potential investors, while incubators may not\n",
    "- Time in the accelerator space is typically limit to 3-4 months\n",
    "- The cash investment from the accelerator into the business is minimal\n",
    "\n",
    "## A. Accelerators are typically less selective than incubators\n",
    "Accelarators are quite selective."
   ]
  },
  {
   "cell_type": "markdown",
   "metadata": {},
   "source": [
    "## Q7. Which of the following are potential disadvantages to joining an accelerator or incubator?\n",
    "- Increased access to professional capital\n",
    "- Opportunities to learn from other entrepreneurs and mentors\n",
    "- All of these are advantages of joining an accelerator or incubator\n",
    "- Exposure to a broader range of technologies and talent\n",
    "\n",
    "## A. All of these are advantages of joining an accelerator or incubator"
   ]
  },
  {
   "cell_type": "markdown",
   "metadata": {},
   "source": [
    "## Q8. Based on empirical research, which strategy was used more frequently by unicorns valued at over $1 billion?\n",
    "- Disruptive strategy\n",
    "- Value chain strategy\n",
    "- Blue ocean strategy\n",
    "\n",
    "## A. Value chain strategy > Disruptive strategy > Blue ocean strategy"
   ]
  },
  {
   "cell_type": "markdown",
   "metadata": {},
   "source": [
    "## Q9. Which of the following is a friction associated with cooperation?\n",
    "- All of these are frictions associated with cooperation\n",
    "- Transaction costs – frictions in identifying partners and in contracting\n",
    "- One party is not interested due to factors such as different perceptions or an unclear value proposition\n",
    "- Startup disclosure dilemma – negotiating terms of exchange and disclosing any information may undermine a startup’s value\n",
    "\n",
    "## A. All of these are frictions associated with cooperation"
   ]
  },
  {
   "cell_type": "markdown",
   "metadata": {},
   "source": [
    "## Q10. Which of the following statements about disruptive innovation is NOT true?\n",
    "- All of these statements about disruptive innovation are true\n",
    "- Disruptive technology initially performs worse compared to the existing technology\n",
    "- Customers are initially able to state a preference for disruptive technologies that improve on only one attribute\n",
    "- The trajectory of improvement of disruptive technology is much steeper than existing technology\n",
    "\n",
    "## A. Customers are initially able to state a preference for disruptive technologies that improve on only one attribute."
   ]
  },
  {
   "cell_type": "code",
   "execution_count": null,
   "metadata": {
    "collapsed": true
   },
   "outputs": [],
   "source": []
  }
 ],
 "metadata": {
  "kernelspec": {
   "display_name": "Python 3",
   "language": "python",
   "name": "python3"
  },
  "language_info": {
   "codemirror_mode": {
    "name": "ipython",
    "version": 3
   },
   "file_extension": ".py",
   "mimetype": "text/x-python",
   "name": "python",
   "nbconvert_exporter": "python",
   "pygments_lexer": "ipython3",
   "version": "3.6.3"
  }
 },
 "nbformat": 4,
 "nbformat_minor": 2
}
