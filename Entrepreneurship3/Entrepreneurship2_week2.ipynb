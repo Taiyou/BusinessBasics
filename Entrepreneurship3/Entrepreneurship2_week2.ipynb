{
 "cells": [
  {
   "cell_type": "markdown",
   "metadata": {},
   "source": [
    "# Causes of Failure in VC-Backed firms\n",
    "- 35% Product development, functional management\n",
    "- 65% management team\n",
    "\n",
    "## Relationships\n",
    "- 84% of high grow startups have cofounders\n",
    "- 50% of those are friends or family\n",
    "- 24% are former coworkers\n",
    "\n",
    "## Roles \n",
    "- You need to have some roles people understand, like CEO\n",
    "- Clear division of labor is best\n",
    "but you still need to rebalance\n",
    "- How do you make decisions?\n",
    "\n",
    "- Votes? Consensus? Unequal equality?\n",
    "\n",
    "## Rewards\n",
    "- You need to be able to talk about money\n",
    "- Leave flexibility and incentives\n",
    "- Vesting and contingent provisions\n",
    "- Understand what people really want, money does not need to equal control."
   ]
  },
  {
   "cell_type": "markdown",
   "metadata": {},
   "source": [
    "# The role of early hires\n",
    "- Thiel's law: a startup messed up at its foundation cannot be fixed.\n",
    "\n",
    "\n",
    "- Early hires matter:\n",
    "- People you work with every day\n",
    "- Performance differences are huge\n",
    "- Role inertia\n",
    "\n",
    "## Performance differences also matter for middle managers.\n",
    "### First hiring decisions\n",
    "- Hire slow, fire first\n",
    "- Realize that your early choices are hard to change\n",
    "- Good enough isn't\n",
    "\n",
    "Revenue 21%, Middle Managers 22%, Innovators 7%"
   ]
  },
  {
   "cell_type": "markdown",
   "metadata": {},
   "source": [
    "# Goals and Motivations"
   ]
  },
  {
   "cell_type": "markdown",
   "metadata": {},
   "source": [
    "## Critical Questions:\n",
    "- Should you find alone or in a group?\n",
    "\n",
    "Generally, a group. Confounders succeed more, and are happier.\n",
    "\n",
    "- Should you choose people who are similiar or different from you?\n",
    "\n",
    "It depends on your strategy!\n",
    "- similar people move fast, but low innovation (exploitation, not innovation)\n",
    "- different people are slower to act but innovative and inventive.\n",
    "\n",
    "\n",
    "- What is the impact of personal value on your startup's success?\n",
    "A. A lot consider rich versus king:\n",
    "King: maximize control, hires less experienced talent, takes less investment.\n",
    "Rich: maximizes return, hires senior people"
   ]
  },
  {
   "cell_type": "markdown",
   "metadata": {},
   "source": [
    "# Founder's agreement"
   ]
  },
  {
   "cell_type": "markdown",
   "metadata": {},
   "source": [
    "- Known knowns:\n",
    "standard provisions\n",
    "\n",
    "- Known unkowns\n",
    "Contingent provisions\n",
    "\n",
    "- Unknown unknowns\n",
    "Building trust, unequal equality"
   ]
  },
  {
   "cell_type": "markdown",
   "metadata": {},
   "source": [
    "# Finding Technical Resources"
   ]
  },
  {
   "cell_type": "markdown",
   "metadata": {},
   "source": [
    "## Key questions to ask before software development\n",
    "- Is there a n existing tool that provides the functionality we seek?\n",
    "- Should we build internally or outsource software development?\n",
    "- If we build internally, how do I find & recruit the best people?\n",
    "- If we outsource, how do we manage the process?"
   ]
  },
  {
   "cell_type": "markdown",
   "metadata": {},
   "source": [
    "## To outsource or Not?\n",
    "Is the feature/product a core differentiator?\n",
    "- Google won't outcourse its search algorithm\n",
    "\n",
    "Candidates for outsourcing \n",
    "- If the feature is operationally important but not a differentiator such as custom software for HR or legal.\n",
    "- If you have a tech-enabled business but the technology itself is widely available such as e-commerce company.\n",
    "\n",
    "Do you have the expertise in-house?\n",
    "- It might take long time to build that expertise in-house."
   ]
  },
  {
   "cell_type": "markdown",
   "metadata": {},
   "source": [
    "## Outsourcing: Dos and Donts \n",
    "You have to own product management to avoid mismatch in expectations\n",
    "- Prioritize the features first\n",
    "- Identify your budget\n",
    "- Spec out the product (user flows or low fidelity wireframes)\n",
    "\n",
    "Be involved in screening developers \n",
    "- Ensure there is a match in technical skills & soft skills\n",
    "- Understand past projects (portfolio) and exact roles within projects\n",
    "- Check refrences"
   ]
  },
  {
   "cell_type": "markdown",
   "metadata": {},
   "source": [
    "## Where to outsource\n",
    "Budget\n",
    "- A good starting point\n",
    "- For software development you can find firms at every price range, from $25-50 an hour all the way up to $100-200 per hour\n",
    "\n",
    "Location\n",
    "- It helps to be in the same or similar time zone as your developer\n",
    "- Location & budget might help focus your search appropriately\n",
    "\n",
    "Marketplaces\n",
    "- For developers and firms: VenturePact\n",
    "- For designers: 99 Designs"
   ]
  },
  {
   "cell_type": "markdown",
   "metadata": {},
   "source": [
    "## Managing the process\n",
    "Identify the who, what & when of your project\n",
    "- Who: person who is accountable on both sides\n",
    "- What: product being developed is clearly defined\n",
    "- When: Deadline\n",
    "\n",
    "User Project Management Tools\n",
    "- Tools for task assignment and tracking process: Basecamp, Asana, Jira, Trello\n",
    "- Messaging among team members: Slack, HipChat, Google hangouts"
   ]
  },
  {
   "cell_type": "markdown",
   "metadata": {},
   "source": [
    "# Allocating Equity Among Team members"
   ]
  },
  {
   "cell_type": "markdown",
   "metadata": {},
   "source": [
    "## Be equity we man an owership or profit interest in the enterprise\n",
    "- Many new ventures involve several team members\n",
    "\n",
    "Usually valuable for key team members to be owners\n",
    "- Typically required by outside investors to align interests of team with investors to maximize the value of the enterprise\n",
    "- Allows enterprise to compensate team with something other than cash, which is usually scarce.\n",
    "- Entrepreneurial individuals usually motivated in part by the possibility of large financial returns associated with the venture formation and growth"
   ]
  },
  {
   "cell_type": "markdown",
   "metadata": {},
   "source": [
    "## Allocating equity among founders\n",
    "Should be based on the relative value of the assets the founder contribute:\n",
    "- The original idea and related intellectual property.\n",
    "- \"Sweat\" commited to date, and until salaries will be paid.\n",
    "- Cash\n",
    "\n",
    "Bargaining power and negotiation skills of course plya a role in determining exact allocations."
   ]
  },
  {
   "cell_type": "markdown",
   "metadata": {},
   "source": [
    "## Value of sweat\n",
    "Market value of labor\n",
    "- What is total compensation for people with similar capacities, doing a similar job for cash salary?\n",
    "\n",
    "Ajudstment relative to cash\n",
    "- Often done outside of a 'day job', not displacing actual earnings\n",
    "- Cash investments are made with after-tax funds, sweat value is estimated with pre-tax wage rates.\n",
    "- Cash is king; usually the scarce resource."
   ]
  },
  {
   "cell_type": "code",
   "execution_count": null,
   "metadata": {
    "collapsed": true
   },
   "outputs": [],
   "source": []
  }
 ],
 "metadata": {
  "kernelspec": {
   "display_name": "Python 3",
   "language": "python",
   "name": "python3"
  },
  "language_info": {
   "codemirror_mode": {
    "name": "ipython",
    "version": 3
   },
   "file_extension": ".py",
   "mimetype": "text/x-python",
   "name": "python",
   "nbconvert_exporter": "python",
   "pygments_lexer": "ipython3",
   "version": "3.6.3"
  }
 },
 "nbformat": 4,
 "nbformat_minor": 2
}
