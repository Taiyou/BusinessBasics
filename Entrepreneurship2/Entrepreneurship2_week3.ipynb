{
 "cells": [
  {
   "cell_type": "code",
   "execution_count": null,
   "metadata": {
    "collapsed": true
   },
   "outputs": [],
   "source": []
  },
  {
   "cell_type": "markdown",
   "metadata": {},
   "source": [
    "# 3.3 Intellectual Property Overview\n",
    "## Why is IP important for entrepreneurs and entrepreneural ventures?\n",
    "Appropriability and incentives for investment\n",
    "- Example of the drug business and patents\n",
    "- Example of reproducing digital files and copyright protection\n",
    "\n",
    "IP as akin to 'real' property, with associated right: exclude others from using; sell / lease or license"
   ]
  },
  {
   "cell_type": "markdown",
   "metadata": {},
   "source": [
    "## What are the various forms of IP?\n",
    "- Patents: allows inventors to exclude others from using the protected property for a period of time before it enters the public domain.\n",
    "- Copyright: allows authors to control the duplication and distribution of their creative works.\n",
    "- Trade secrecy: allows firm to safeguard commercially valuable information\n",
    "- Speed: example from the semiconductor industry"
   ]
  },
  {
   "cell_type": "markdown",
   "metadata": {},
   "source": [
    "## Patents\n",
    "- right to exclude other for 20 years from date of patent application\n",
    "    - traditional justification: incentives for innovation\n",
    "        \n",
    "- US standards for patentability\n",
    "    - First to file\n",
    "    - Three criteria\n",
    "        - Non-obviousness\n",
    "        - Novelty\n",
    "        - Utility\n",
    "    - excluded: laws of nature, natural phenomenon\n",
    "    - inventor makes specific claims to define the scope or space invention that is to be protected."
   ]
  },
  {
   "cell_type": "markdown",
   "metadata": {},
   "source": [
    "## What explains acceleration of patents?\n",
    "- The pace of invention in society has increased\n",
    "- The utility of patents (offensive, defensive, bargaining chips) has increased\n",
    "    - start up signaling value to investors and partners in addition to patent exclusionary role"
   ]
  },
  {
   "cell_type": "markdown",
   "metadata": {},
   "source": [
    "## IP: good or bad for innovation?\n",
    "- \"Patent assertion entities\", \"Non-practicing entities\":\n",
    "    focuses efforts solely on enforcing patent rights\n",
    "- 'the fact that no one controlled sudoku's intellectual property right let the game's popularity grow unfettered....'"
   ]
  },
  {
   "cell_type": "markdown",
   "metadata": {},
   "source": [
    "## Trade secrets\n",
    "- information, including a formula, program, method, technique,  or process that\n",
    "    - (a) derives independent economic value from not being generally known,\n",
    "    - (b) is the best subject of reasonable efforts to maintain its secrecy.\n",
    "\n",
    "- Differences with patents: State level regulation, indefinite coverage, a lesser standard\n",
    "\n",
    "- Two contractual provisions can protect commercially valuable information:\n",
    "    - Non-disclosure agreements: direct protection of information\n",
    "    - Convenants not to compete: limits former employees from working for competitors within  a specified geography for a specific amount of time"
   ]
  },
  {
   "cell_type": "markdown",
   "metadata": {},
   "source": [
    "# 3.4 Summary -Legal forms of the Enterprise"
   ]
  },
  {
   "cell_type": "markdown",
   "metadata": {},
   "source": [
    "You might be motivated to do something other than operate as a sole proprietor"
   ]
  },
  {
   "cell_type": "markdown",
   "metadata": {},
   "source": [
    "## Motives for forming a new legal entity in Entrepreneurship\n",
    "- limiting personal liability, you can protect your personal entity.\n",
    "- sharing profit interests among managers, employees, and investors\n",
    "- Raising capital, and satisfying requirements of investors\n",
    "    - future liquidty\n",
    "    - tax treatment"
   ]
  },
  {
   "cell_type": "markdown",
   "metadata": {},
   "source": [
    "# Retain a lawer with expertise in your jursidiction.\n",
    "- Relatively simple and relatively inexpensive for companies owned solely by founder and with no outside investors \n",
    "- Raising capital requires significant legal expense (eg. 10,000 to 50,000 USD in legal fees for venture financing)/\n",
    "- Lawyers who specialize in new ventures will often offer deferred or discounted fees for start-ups\n",
    "- Cross-border issue are particularly challenging (U.S. company doing business in China)"
   ]
  },
  {
   "cell_type": "markdown",
   "metadata": {},
   "source": [
    "## Differentiating attributes\n",
    "- Taxation of income\n",
    "    - Entity taxed separatly (may result in double taxation)\n",
    "    - Entity passes through income to owners.\n",
    "\n",
    "- Equity traded on public markets vs. private ownership"
   ]
  },
  {
   "cell_type": "code",
   "execution_count": null,
   "metadata": {
    "collapsed": true
   },
   "outputs": [],
   "source": []
  }
 ],
 "metadata": {
  "kernelspec": {
   "display_name": "Python 3",
   "language": "python",
   "name": "python3"
  },
  "language_info": {
   "codemirror_mode": {
    "name": "ipython",
    "version": 3
   },
   "file_extension": ".py",
   "mimetype": "text/x-python",
   "name": "python",
   "nbconvert_exporter": "python",
   "pygments_lexer": "ipython3",
   "version": "3.6.3"
  }
 },
 "nbformat": 4,
 "nbformat_minor": 2
}
